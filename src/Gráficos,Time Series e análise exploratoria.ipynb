import pandas as pd
url = "https://gist.githubusercontent.com/tgcsantos/3bdb29eba6ce391e90df2b72205ba891/raw/22fa920e80c9fa209a9fccc8b52d74cc95d1599b/dados_imoveis.csv"
dados = pd.read_csv(url)
dados.head()
dados
dados.sample(10)
type(dados)
dados["Bairro"]
dados["Bairro"][6522]
dados.info()
dados.Metragem.mean()
sum((dados["Bairro"] == "Vila Mariana")*1)
tem_imoveis_Vila_Mariana = (dados["Bairro"] == "Vila Mariana")
tem_imoveis_Vila_Mariana
imoveis_vila_mariana = dados[tem_imoveis_Vila_Mariana]
imoveis_vila_mariana["Metragem"].mean()
dados["Bairro"].value_counts()
n_imoveis_bairro = dados["Bairro"].value_counts()
n_imoveis_bairro.head(10).plot.bar()
dados.head()
dados.info()
dados["Valor"][0]
dados["Valor"][0].split()
dados["Valor"].str.split()
dados["Valor"].str.split(expand = True)
dados["Valor"].str.split(expand = True)[0].unique()
len(dados["Valor"].str.split(expand = True)[1].unique())
dados["Valor"].str.split(expand = True)[2].unique()
dados[["Valor", "Bairro"]]
dados[["Moeda", "Valor_anuncio", "Tipo_anuncio"]]=dados["Valor"].str.split(expand = True)
dados.head()
dados["Tipo_anuncio"].isnull()
dados[dados["Tipo_anuncio"].isnull()]["Tipo_anuncio"].unique()
dados_venda = dados[dados["Tipo_anuncio"].isnull()]
dados_venda
dados_venda.info()
dados_venda["Valor_anuncio"].str.replace(".","").astype(float)
dados_venda["Valor_anuncio_float"] = dados_venda["Valor_anuncio"].str.replace(".","").astype(float)
dados_venda.info()
dados_venda["Valor_anuncio_float"].plot.hist(bins=50)
dados_venda.describe()
pd.set_option("display.precision",2)
pd.set_option('display.float_format', lambda x: '%.2f'%x)
dados_venda.describe(include="all")
dados_venda[["Rua", "Bairro", "Cidade"]].describe()
import seaborn as sns
import matplotlib.pyplot as plt
sns.set()
plt.figure(figsize=(10,8))
ax = sns.histplot(data=dados_venda, x = "Valor_anuncio_float", kde = True)
ax.set_title("Histograma do valor dos imóveis")
plt.xlim((-50,10000000))
plt.show()

dados_venda.head()

dados_venda["Valor_m2"] = dados_venda["Valor_anuncio_float"]/dados_venda["Metragem"]
dados_venda.head()

#Agrupa pela coluna de bairro.
dados_venda.groupby("Bairro").mean()

#Faz a soma do filtro específico.
dados_venda.groupby("Bairro").sum()

dados_bairro = dados_venda.groupby("Bairro").sum()
dados_bairro

dados_bairro["Valor_m2_bairro"] = dados_bairro["Valor_anuncio_float"]/dados_bairro["Metragem"]
dados_bairro

#Localiza apenas os que tem o valor "Vila Mariana".
dados_venda.groupby("Bairro").mean().loc["Vila Mariana"]

dados_bairro.loc["Vila Mariana"]

dados_bairro["Valor_m2_bairro"]["Vila Mariana"]

#Retorna os índices, pega os 10 primeiros.
top_bairros = dados_venda["Bairro"].value_counts()[:10].index

#Índice volta a ser o número.
#Injeta as alterações já no próprio dado.
dados_bairro.reset_index(inplace = True)
dados_bairro

#Usa o @ para referenciar uma variável externa.
#O Query faz uma consulta em uma tabela. 
dados_bairro.query("Bairro in @top_bairros")

plt.figure(figsize=(10,8))
#Renderiza um gráfico de barras com os valores X e Y definidos e a dataframe escolhida.
ax = sns.barplot(x="Bairro", y="Valor_m2_bairro", data=dados_bairro.query("Bairro in @top_bairros"))
#Altera e rotaciona os tick(Título de cada coluna).
ax.tick_params(axis='x', rotation=45)

plt.figure(figsize=(10,8))
#Renderiza um gráfico de caixa.
ax = sns.boxplot(data = dados_venda.query("Bairro in @top_bairros"), x = "Bairro", y = "Valor_anuncio_float")
ax.tick_params(axis='x', rotation=45)
plt.show()

plt.figure(figsize=(10,8))
#Consulta novamente os top 10 bairros e com metragem menor que 30000.
ax = sns.boxplot(data = dados_venda.query("Bairro in @top_bairros & Metragem < 30000"), x = "Bairro", y = "Metragem")
ax.tick_params(axis='x', rotation=45)
plt.show()

dados_venda

ibge_url = "https://gist.githubusercontent.com/tgcsantos/85f8c7b0a2edbc3e27fcad619b37d886/raw/a4954781e6bca9cb804062a3eea0b3b84679daf4/Basico_SP1.csv"
pd.read_csv(ibge_url)
