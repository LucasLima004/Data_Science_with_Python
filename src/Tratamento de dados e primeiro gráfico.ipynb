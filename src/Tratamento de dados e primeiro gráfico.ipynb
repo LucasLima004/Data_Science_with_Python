import pandas as pd
url = "https://gist.githubusercontent.com/tgcsantos/3bdb29eba6ce391e90df2b72205ba891/raw/22fa920e80c9fa209a9fccc8b52d74cc95d1599b/dados_imoveis.csv"
dados = pd.read_csv(url)
dados.head()
dados
dados.sample(10)
type(dados)
dados["Bairro"]
dados["Bairro"][6522]
dados.info()
dados.Metragem.mean()
sum((dados["Bairro"] == "Vila Mariana")*1)
tem_imoveis_Vila_Mariana = (dados["Bairro"] == "Vila Mariana")
tem_imoveis_Vila_Mariana
imoveis_vila_mariana = dados[tem_imoveis_Vila_Mariana]
imoveis_vila_mariana["Metragem"].mean()
dados["Bairro"].value_counts()
n_imoveis_bairro = dados["Bairro"].value_counts()
n_imoveis_bairro.head(10).plot.bar()


dados.head()
dados.info()
#Pega o primeiro índice do valor.
dados["Valor"][0]

#Separa a string em array.
dados["Valor"][0].split()


#Usa o método split no Valor usando o método string.
dados["Valor"].str.split()

#Cria uma coluna para cada elemento da separação com o parâmetro expand.
dados["Valor"].str.split(expand = True)

#Pega a coluna específica, e verifica se todos são iguais e diferentes(unique()).
dados["Valor"].str.split(expand = True)[0].unique()

#Vê a quantidade.
len(dados["Valor"].str.split(expand = True)[1].unique())

dados["Valor"].str.split(expand = True)[2].unique()
#Pega uma lista do dataframe.
dados[["Valor", "Bairro"]]

#Adiciona às tabelas e adiciona os valores.
dados[["Moeda", "Valor_anuncio", "Tipo_anuncio"]]=dados["Valor"].str.split(expand = True)
dados.head()

#Verifica se a coluna está vazia, retorna valor booleano, fica só com a parte nula.
dados["Tipo_anuncio"].isnull()

#Verifica se ficou só apenas uma forma de dado na coluna.
dados[dados["Tipo_anuncio"].isnull()]["Tipo_anuncio"].unique()

#Reescreve os dados apenas com os dados filtrados.
dados_venda = dados[dados["Tipo_anuncio"].isnull()]
dados_venda

dados_venda.info()

#Substitui o ponto por nada.
#Converte para o tipo float.
dados_venda["Valor_anuncio"].str.replace(".","").astype(float)

dados_venda.info()

#Cria um histográfico pela coluna convertida.
#Divide em 50 caixinhas o gráfico.
dados_venda["Valor_anuncio_float"].plot.hist(bins=50)

#Pega todas colunas numéricas e trás uma descrição.
dados_venda.describe()

#Mostra as casas decimais nas configurações apenas como 2.
pd.set_option("display.precision",2)
#Deixa o formato do tipo float como 2 casas decimais para direita.
pd.set_option('display.float_format', lambda x: '%.2f'%x)
#Descreve incluindo tudo da dataframe.
dados_venda.describe(include="all")

dados_venda[["Rua", "Bairro", "Cidade"]].describe()

#Adiciona a bliblioteca do seaborn, usado para plotagem de gráficos.
import seaborn as sns
#Importa a bliblioteca.
import matplotlib.pyplot as plt
#Envia as configurações do seaborn.
sns.set()
#Configura o tamanho do gráfico.
plt.figure(figsize=(10,8))
#Plota um histográfico, no eixo X aparece a coluna.
#Adiciona também uma curva de alterações.
ax = sns.histplot(data=dados_venda, x = "Valor_anuncio_float", kde = True)
#Envia o título do gráfico da variável.
ax.set_title("Histograma do valor dos imóveis")
#O gráfico vai de -50 até o valor máximo. 
plt.xlim((-50,10000000))
#Não aparece os dados de uso do gráfico.
plt.show()
