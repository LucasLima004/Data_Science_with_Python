import pandas as pd
url = "https://gist.githubusercontent.com/tgcsantos/3bdb29eba6ce391e90df2b72205ba891/raw/22fa920e80c9fa209a9fccc8b52d74cc95d1599b/dados_imoveis.csv"
dados = pd.read_csv(url)
dados.head()
dados
dados.sample(10)
type(dados)
dados["Bairro"]
dados["Bairro"][6522]
dados.info()
dados.Metragem.mean()
sum((dados["Bairro"] == "Vila Mariana")*1)
tem_imoveis_Vila_Mariana = (dados["Bairro"] == "Vila Mariana")
tem_imoveis_Vila_Mariana
imoveis_vila_mariana = dados[tem_imoveis_Vila_Mariana]
imoveis_vila_mariana["Metragem"].mean()
dados["Bairro"].value_counts()
n_imoveis_bairro = dados["Bairro"].value_counts()
n_imoveis_bairro.head(10).plot.bar()
dados.head()
dados.info()
dados["Valor"][0]
dados["Valor"][0].split()
dados["Valor"].str.split()
dados["Valor"].str.split(expand = True)
dados["Valor"].str.split(expand = True)[0].unique()
len(dados["Valor"].str.split(expand = True)[1].unique())
dados["Valor"].str.split(expand = True)[2].unique()
dados[["Valor", "Bairro"]]
dados[["Moeda", "Valor_anuncio", "Tipo_anuncio"]]=dados["Valor"].str.split(expand = True)
dados.head()
dados["Tipo_anuncio"].isnull()
dados[dados["Tipo_anuncio"].isnull()]["Tipo_anuncio"].unique()
dados_venda = dados[dados["Tipo_anuncio"].isnull()]
dados_venda
dados_venda.info()
dados_venda["Valor_anuncio"].str.replace(".","").astype(float)
dados_venda["Valor_anuncio_float"] = dados_venda["Valor_anuncio"].str.replace(".","").astype(float)
dados_venda.info()
dados_venda["Valor_anuncio_float"].plot.hist(bins=50)
dados_venda.describe()
pd.set_option("display.precision",2)
pd.set_option('display.float_format', lambda x: '%.2f'%x)
dados_venda.describe(include="all")
dados_venda[["Rua", "Bairro", "Cidade"]].describe()
import seaborn as sns
import matplotlib.pyplot as plt
sns.set()
plt.figure(figsize=(10,8))
ax = sns.histplot(data=dados_venda, x = "Valor_anuncio_float", kde = True)
ax.set_title("Histograma do valor dos imóveis")
plt.xlim((-50,10000000))
plt.show()
dados_venda.head()
dados_venda["Valor_m2"] = dados_venda["Valor_anuncio_float"]/dados_venda["Metragem"]
dados_venda.head()
dados_venda.groupby("Bairro").mean()
dados_venda.groupby("Bairro").sum()
dados_bairro = dados_venda.groupby("Bairro").sum()
dados_bairro
dados_bairro["Valor_m2_bairro"] = dados_bairro["Valor_anuncio_float"]/dados_bairro["Metragem"]
dados_bairro
dados_venda.groupby("Bairro").mean().loc["Vila Mariana"]
dados_bairro.loc["Vila Mariana"]
dados_bairro["Valor_m2_bairro"]["Vila Mariana"]
top_bairros = dados_venda["Bairro"].value_counts()[:10].index
dados_bairro.reset_index(inplace = True)
dados_bairro
dados_bairro.query("Bairro in @top_bairros")
plt.figure(figsize=(10,8))
ax = sns.barplot(x="Bairro", y="Valor_m2_bairro", data=dados_bairro.query("Bairro in @top_bairros"))
ax.tick_params(axis='x', rotation=45)
plt.figure(figsize=(10,8))
ax = sns.boxplot(data = dados_venda.query("Bairro in @top_bairros"), x = "Bairro", y = "Valor_anuncio_float")
ax.tick_params(axis='x', rotation=45)
plt.show()
plt.figure(figsize=(10,8))
ax = sns.boxplot(data = dados_venda.query("Bairro in @top_bairros & Metragem < 30000"), x = "Bairro", y = "Metragem")
ax.tick_params(axis='x', rotation=45)
plt.show()
dados_venda
ibge_url = "https://gist.githubusercontent.com/tgcsantos/85f8c7b0a2edbc3e27fcad619b37d886/raw/a4954781e6bca9cb804062a3eea0b3b84679daf4/Basico_SP1.csv"
pd.read_csv(ibge_url)

import pandas as pd
ibge_sp = pd.read_csv(
    'https://gist.githubusercontent.com/tgcsantos/85f8c7b0a2edbc3e27fcad619b37d886/raw/a4954781e6bca9cb804062a3eea0b3b84679daf4/Basico_SP1.csv',
    #Define o decodificador
    encoding='ISO-8859-1',
    #Define a separação, Define a forma de separação de decimal de ponto para vírgula.
    sep=';',thousands='.', decimal=','
)
#Dá um drop caso toda coluna esteja vazia.
ibge_sp.dropna(how='all', axis=1, inplace=True)
ibge_sp.head()

ibge_sp.info()

dados_venda

enderecos = pd.read_csv("/content/drive/MyDrive/cursos/Tecnologia da informação/Ciência de dados/Data base/enderecos.csv")

enderecos.head()

enderecos_sp = enderecos.query("sigla_uf == 'SP'")
enderecos_sp

#Cria uma coluna rua com espaço e o endereço.
enderecos_sp["rua"] = enderecos_sp["tipo_logr"] + " " + enderecos_sp["logr_nome"]
#Coloca todas letras em minúsculo e elimina os espaços extras.
enderecos_sp["rua"] = enderecos_sp["rua"].str.lower().str.strip()
enderecos_sp.head()

dados_venda

#Expressão regular para manipulação de string.
dados_venda["Rua"].str.extract(r'(^[\w ]+)')[:10]

dados_venda["Apenas_rua"] = dados_venda["Rua"].str.extract(r'(^[\w ]+)')
dados_venda["Apenas_rua"] = dados_venda["Apenas_rua"].str.lower().str.strip()
dados_venda.head()


#Da um merge, diz qual base irá estar na esquerda e direita(parte), combina da esquerda e adiciona as colunas(falando as colunas que quer fazer a combinação.)
#Remove as linhas duplicatas para os dados_vendas(relacionadas).
dados_geo = pd.merge(left = dados_venda,right = enderecos_sp[["rua","cep","latitude","longitude"]],how="left", left_on="Apenas_rua", right_on="rua").drop_duplicates(subset=dados_venda.columns).query("cep > 0")
dados_geo

ibge_sp.info()

#Importa a biblioteca.
#Importa o point da biblioteca.
from shapely.geometry import Point 
latitude = -23.56
longitude = -46.59
#Cria um ponto com a latitude e longitude.

#Importa da biblioteca o Polygon.
from shapely.geometry import Polygon
#Cria um polígono de acordo com um array.
Polygon([[0,0],[1,0],[1,1],[0,1],[0,0]])

#Fala se o ponto está dentro da superfície criada.
Polygon([[0,0],[1,0],[1,1],[0,1],[0,0]]).contains(Point(0.1,0.9))

#Instala uma biblioteca.
!pip install geopandas
Point(longitude, latitude)

#Importa a biblioteca do geopandas.
import geopandas as gpd

#Pega o caminho dos dados e usa o geopandas para ler o arquivo.
setor_censo = gpd.read_file(
    '/content/drive/MyDrive/cursos/Tecnologia da informação/Ciência de dados/Data base/35SEE250GC_SIR.shp'
)
setor_censo.head()


#Cria o setor censitário apenas do município de São Paulo.
setor_censo_sp = setor_censo[setor_censo.NM_MUNICIP == "SÃO PAULO"]
#Retorna a linha correspondente ao setor censitário correspondente ao ponto.
setor_censo_sp[setor_censo_sp.contains(Point(longitude,latitude))]

#Cria uma coluna e atribui um ponto pra cada longitude e latitude.
dados_geo["Point"] = ""
for i in dados_geo.index:
    dados_geo["Point"][i] = Point(dados_geo["longitude"][i], dados_geo["latitude"][i])
#Pega cada um dos pontos e procura dentro do setor_censo_sp, perguntando se tem o ponto dentro do polígono retornando o código censitário.
dados_geo['setor_censo'] = dados_geo["Point"][:10].map(
    lambda x: setor_censo_sp.loc[setor_censo_sp.contains(x), 'CD_GEOCODI'].values
).str[0]
dados_geo

dados_geo = pd.read_csv("/content/drive/MyDrive/cursos/Tecnologia da informação/Ciência de dados/Data base/dados_geo.csv")
dados_geo.head()

dados_vendas_censo = pd.merge(left=dados_geo[dados_geo["setor_censo"].notnull()], right = ibge_sp, how="left", left_on="setor_censo",right_on="Cod_setor")
dados_vendas_censo

dados_vendas_censo.info()

plt.figure(figsize=(10,10))
sns.scatterplot(data = dados_vendas_censo, x="V005", y = "Valor_m2")
