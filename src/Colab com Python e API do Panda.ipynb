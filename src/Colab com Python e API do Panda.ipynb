#Importa a biblioteca do panda e adiciona ela a uma variável de ambiente.
import pandas as pd
#Cria uma variável url e adiciona o link da base de dados.
url = "https://gist.githubusercontent.com/tgcsantos/3bdb29eba6ce391e90df2b72205ba891/raw/22fa920e80c9fa209a9fccc8b52d74cc95d1599b/dados_imoveis.csv"
#Faz a leitura dos dados usando a função read com a extensão do arquivo e a url.
dados = pd.read_csv(url)
#Retorna os cinco primeiros elementos da base de dados.
dados.head()
#Imprime todos dados dentro da tabela.
dados
#Pega 10 linhas aleatórias de dados da base de dados.
dados.sample(10)
#Retorna o tipo de variável.
#Dataframe é uma tabela.
type(dados)

#Comandos de slice(corte de tabela específicos).

#Pega apenas os bairros da dataframe.
dados["Bairro"]
#Pega apenas o bairro de index 6522 do dataframe.
dados["Bairro"][6522]
#Trás informações sobre os dados.
dados.info()
#Pega a coluna metragem, e retorna a média dos valores.
dados.Metragem.mean()
#Retorna valores booleanos de acordo com a comparação usando operador lógico.
#A mltiplicação transforma o booleano para binários.
#Realiza uma soma de todos elementos binários.
sum((dados["Bairro"] == "Vila Mariana")*1)
tem_imoveis_Vila_Mariana = (dados["Bairro"] == "Vila Mariana")
tem_imoveis_Vila_Mariana
#Retorna apenas os valores booleanos verdadeiros.
imoveis_vila_mariana = dados[tem_imoveis_Vila_Mariana]
#Retorna a média da metragem dos imóveis da vila mariana.
imoveis_vila_mariana["Metragem"].mean()
#Retorna a quantidade de valores dentro de cada bairro(usado como index).
dados["Bairro"].value_counts()
n_imoveis_bairro = dados["Bairro"].value_counts()
#Gera um gráfico de barra e plota(Imprime).
#Faz com os 10 primeiros elementos.
n_imoveis_bairro.head(10).plot.bar()
