#Importação dos dados tratados.
import pandas as pd
import seaborn as sns
import matplotlib.pyplot as plt
import numpy as np

#Seta a configuração para o pandas.
pd.set_option("display.precision", 2)
pd.set_option('display.float_format',lambda x: '%.2f' % x)
sns.set()

dados_vendas_censo = pd.read_csv("/content/drive/MyDrive/cursos/Tecnologia da informação/Ciência de dados/Data base/dados_vendas_censo.csv")
#Seleciona apenas as colunas que possui interesse.
dados_vendas_censo = dados_vendas_censo[['Rua', 'Bairro', 'Cidade', 'Metragem', 'Quartos', 'Banheiros', 'Vagas',
                                         'Valor_anuncio', 'Valor_mm', 'Valor_m2', 'latitude', 'longitude', 'Situacao_setor', 'V001',
                                         'V002', 'V003', 'V004', 'V005', 'V006', 'V007', 'V008', 'V009', 'V010',
                                         'V011', 'V012']].dropna()
dados_vendas_censo



#Dá o plot nos dados.
plt.figure(figsize=(10,8))
ax = sns.boxplot(data = dados_vendas_censo, y="Valor_anuncio")
plt.show()

#Pega valores apenas que atendem às condições.
dados_vendas_censo.query("Valor_anuncio > 30000000 | Valor_anuncio < 100000")

#Exclui os dados que não atendem ao range.
# | representa a lógica OR.
dados_vendas_censo.drop(dados_vendas_censo.query("Valor_anuncio > 30000000 | Valor_anuncio < 100000").index, inplace=True)
plt.figure(figsize=(10,8))
ax = sns.boxplot(data = dados_vendas_censo, y="Valor_anuncio")
plt.show()

plt.figure(figsize=(10,8))
#Cria um tipo de gráfico com os eixos selecionados.
sns.scatterplot(data = dados_vendas_censo, x="Valor_anuncio", y="Valor_m2")

#A correlação dá o numero entre 1 e -1.
#Faz a correlação da tabela.
dados_vendas_censo.corr()

plt.figure(figsize=(18,8))
#Remote tudo que está no triângulo superior.
mask = np.triu(np.ones_like(dados_vendas_censo.corr(), dtype=bool))
#Cria um mapa térmico com base nos dados e utilizando a máscara(filtro) criada.
heatmap = sns.heatmap(dados_vendas_censo.corr(), mask=mask, vmin=-1,vmax=1, annot=True, cmap='BrBG')
#Coloca um título com a fonte e espaçamento definido.
heatmap.set_title('Correlação', fontdict={'fontsize':18}, pad=16)

#Importa apenas o método da biblioteca.
from sklearn.linear_model import LinearRegression
from sklearn.model_selection import train_test_split

X = dados_vendas_censo[["Metragem"]]
Y = dados_vendas_censo["Valor_anuncio"]

#Retorna 4 conjuntos de dados e adiciona às variáveis.
#Seta também o tamanho e o estádo randomico.
X_train, X_test, Y_train, Y_test = train_test_split(X,Y, test_size = 0.25, random_state = 54)
lr = LinearRegression()

#Fita a curva com base na variável que quer treinar e a variável resposta.
lr.fit(X_train, Y_train)

#Faz o retorno de um array com as predições.
Y_predict_test = lr.predict(X_test)

Y_test

Y_predict_train = lr.predict(X_train)

Y_train

from sklearn.metrics import mean_absolute_error, r2_score
#Retorna um valor com a soma de todos erros.
mean_absolute_error(Y_test, Y_predict_test)

mean_absolute_error(Y_train,Y_predict_train)

X = dados_vendas_censo[['Metragem', 'Quartos', 'Banheiros', 'Vagas',
                                         'latitude', 'longitude', 'Situacao_setor', 'V001',
                                         'V002', 'V003', 'V004', 'V005', 'V006', 'V007', 'V008', 'V009', 'V010',
                                         'V011', 'V012']]
Y = dados_vendas_censo["Valor_anuncio"]
X_train, X_test, Y_train, Y_test = train_test_split(X,Y, test_size = 0.25, random_state = 54)
lr.fit(X_train, Y_train)
Y_predict_test = lr.predict(X_test)
Y_predict_train = lr.predict(X_train)

mae_test = mean_absolute_error(Y_test, Y_predict_test)
#Quanto mais próximo de um, melhor.
r2_test = r2_score(Y_test, Y_predict_test)
lr = LinearRegression()

mae_train = mean_absolute_error(Y_train, Y_predict_train)
r2_train = r2_score(Y_train, Y_predict_train)

mae_test

r2_test

mae_train

r2_train

plt.figure(figsize=(10,8))
sns.scatterplot(x=Y_test, y=Y_predict_test)

X = dados_vendas_censo[['Metragem', 'Quartos', 'Banheiros', 'Vagas','V001','V007', 'V009']]
Y = dados_vendas_censo["Valor_anuncio"]
X_train, X_test, Y_train, Y_test = train_test_split(X,Y, test_size = 0.25, random_state = 54)
lr.fit(X_train, Y_train)
Y_predict_test = lr.predict(X_test)
Y_predict_train = lr.predict(X_train)

mae_test = mean_absolute_error(Y_test, Y_predict_test)
r2_test = r2_score(Y_test, Y_predict_test)
lr = LinearRegression()

mae_train = mean_absolute_error(Y_train, Y_predict_train)
r2_train = r2_score(Y_train, Y_predict_train)

mae_test

r2_test
